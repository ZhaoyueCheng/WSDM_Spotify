{
 "cells": [
  {
   "cell_type": "code",
   "execution_count": 54,
   "metadata": {},
   "outputs": [],
   "source": [
    "import glob\n",
    "import pandas as pd\n",
    "import math"
   ]
  },
  {
   "cell_type": "code",
   "execution_count": 4,
   "metadata": {},
   "outputs": [],
   "source": [
    "train_set_dir = \"/media/data2/Data/wsdm2019/data/training_set/\"\n",
    "second_stage_file_dir = \"/media/data2/Data/wsdm2019/python/data/second_stage/\"\n",
    "\n",
    "second_stage_files = sorted(glob.glob(second_stage_file_dir+\"*.csv\"))"
   ]
  },
  {
   "cell_type": "code",
   "execution_count": 115,
   "metadata": {},
   "outputs": [],
   "source": [
    "test_file = second_stage_files[0]"
   ]
  },
  {
   "cell_type": "code",
   "execution_count": 116,
   "metadata": {},
   "outputs": [
    {
     "data": {
      "text/plain": [
       "'/media/data2/Data/wsdm2019/python/data/second_stage/log_9_20180731_000000000000_second_stage.csv'"
      ]
     },
     "execution_count": 116,
     "metadata": {},
     "output_type": "execute_result"
    }
   ],
   "source": [
    "test_file"
   ]
  },
  {
   "cell_type": "code",
   "execution_count": 114,
   "metadata": {},
   "outputs": [
    {
     "data": {
      "text/plain": [
       "'log_9_20180731_000000000000_second_stage.csv'"
      ]
     },
     "execution_count": 114,
     "metadata": {},
     "output_type": "execute_result"
    }
   ],
   "source": [
    "test_file[52:]"
   ]
  },
  {
   "cell_type": "code",
   "execution_count": 28,
   "metadata": {},
   "outputs": [],
   "source": [
    "original_file = train_set_dir + test_file[52:-17] + \".csv\""
   ]
  },
  {
   "cell_type": "code",
   "execution_count": 29,
   "metadata": {},
   "outputs": [
    {
     "data": {
      "text/plain": [
       "'/media/data2/Data/wsdm2019/data/training_set/log_9_20180731_000000000000.csv'"
      ]
     },
     "execution_count": 29,
     "metadata": {},
     "output_type": "execute_result"
    }
   ],
   "source": [
    "original_file"
   ]
  },
  {
   "cell_type": "code",
   "execution_count": 30,
   "metadata": {},
   "outputs": [],
   "source": [
    "train_f = pd.read_csv(original_file)"
   ]
  },
  {
   "cell_type": "code",
   "execution_count": 31,
   "metadata": {},
   "outputs": [],
   "source": [
    "logit_f = pd.read_csv(test_file)"
   ]
  },
  {
   "cell_type": "code",
   "execution_count": 34,
   "metadata": {},
   "outputs": [],
   "source": [
    "train_f['logits'] = logit_f['logits']"
   ]
  },
  {
   "cell_type": "code",
   "execution_count": 37,
   "metadata": {},
   "outputs": [],
   "source": [
    "test_f = train_f[['session_id', 'skip_2', 'logits']]"
   ]
  },
  {
   "cell_type": "code",
   "execution_count": 48,
   "metadata": {},
   "outputs": [],
   "source": [
    "test_groups = test_f.groupby('session_id')"
   ]
  },
  {
   "cell_type": "code",
   "execution_count": 108,
   "metadata": {},
   "outputs": [],
   "source": [
    "predicted = []\n",
    "groundtruth = []\n",
    "for name, group in test_groups:\n",
    "    cut_value = math.floor(len(group) / 2)\n",
    "    group_logits = (group['logits'].values[cut_value:] > 0.5).astype(int).tolist()\n",
    "    group_skip_2 = group['skip_2'].values[cut_value:].tolist()\n",
    "    \n",
    "    groundtruth.append(group_skip_2)\n",
    "    predicted.append(group_logits)"
   ]
  },
  {
   "cell_type": "code",
   "execution_count": 111,
   "metadata": {},
   "outputs": [
    {
     "name": "stdout",
     "output_type": "stream",
     "text": [
      "(0.6292740926015201, 0.8006008241942906)\n"
     ]
    }
   ],
   "source": [
    "print(evaluate(predicted, groundtruth))"
   ]
  },
  {
   "cell_type": "code",
   "execution_count": 50,
   "metadata": {},
   "outputs": [],
   "source": [
    "def evaluate(submission, groundtruth):\n",
    "    ap_sum = 0.0\n",
    "    first_pred_acc_sum = 0.0\n",
    "    counter = 0\n",
    "    for sub, tru in zip(submission, groundtruth):\n",
    "        if len(sub) != len(tru):\n",
    "            raise Exception('Line {} should contain {} predictions, but instead contains '\n",
    "                            '{}'.format(counter+1,len(tru),len(sub)))\n",
    "        ap_sum += ave_pre(sub,tru,counter)\n",
    "        first_pred_acc_sum += sub[0] == tru[0]\n",
    "        counter+=1\n",
    "    ap = ap_sum/counter\n",
    "    first_pred_acc = first_pred_acc_sum/counter\n",
    "    return ap, first_pred_acc\n",
    "\n",
    "def ave_pre(submission,groundtruth,counter):\n",
    "    s = 0.0\n",
    "    t = 0.0\n",
    "    c = 1.0\n",
    "    for x, y in zip(submission, groundtruth):\n",
    "        if x != 0 and x != 1:\n",
    "            raise Exception('Invalid prediction in line {}, should be 0 or 1'.format(counter))\n",
    "        if x==y:\n",
    "            s += 1.0\n",
    "            t += s / c\n",
    "        c += 1\n",
    "    return t/len(groundtruth)"
   ]
  }
 ],
 "metadata": {
  "kernelspec": {
   "display_name": "Python 3",
   "language": "python",
   "name": "python3"
  },
  "language_info": {
   "codemirror_mode": {
    "name": "ipython",
    "version": 3
   },
   "file_extension": ".py",
   "mimetype": "text/x-python",
   "name": "python",
   "nbconvert_exporter": "python",
   "pygments_lexer": "ipython3",
   "version": "3.6.5"
  }
 },
 "nbformat": 4,
 "nbformat_minor": 2
}
