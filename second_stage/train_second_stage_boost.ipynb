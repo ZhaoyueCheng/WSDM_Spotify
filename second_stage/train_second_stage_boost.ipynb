{
 "cells": [
  {
   "cell_type": "code",
   "execution_count": 1,
   "metadata": {
    "collapsed": true
   },
   "outputs": [],
   "source": [
    "# compute original accuracy\n",
    "import pickle\n",
    "import numpy as np\n",
    "from sklearn.metrics import accuracy_score\n",
    "import xgboost"
   ]
  },
  {
   "cell_type": "code",
   "execution_count": 2,
   "metadata": {},
   "outputs": [
    {
     "name": "stdout",
     "output_type": "stream",
     "text": [
      "0.7306037079174523\n"
     ]
    }
   ],
   "source": [
    "valid_target = np.load(\"blend_valid_target.npy\")\n",
    "valid = np.load(\"blend_valid.npy\")\n",
    "\n",
    "scores = (np.sum(valid[:, :-1], axis = 1) > 2).astype(int)\n",
    "print(accuracy_score(valid_target, scores))"
   ]
  },
  {
   "cell_type": "code",
   "execution_count": 3,
   "metadata": {},
   "outputs": [
    {
     "name": "stdout",
     "output_type": "stream",
     "text": [
      "0.7315018966930572\n"
     ]
    }
   ],
   "source": [
    "train_target = np.load(\"blend_train_target.npy\")\n",
    "train = np.load(\"blend_train.npy\")\n",
    "\n",
    "scores = (np.sum(train[:, :-1], axis = 1) > 2).astype(int)\n",
    "print(accuracy_score(train_target, scores))"
   ]
  },
  {
   "cell_type": "code",
   "execution_count": 4,
   "metadata": {},
   "outputs": [
    {
     "name": "stdout",
     "output_type": "stream",
     "text": [
      "0.7305997527028814\n"
     ]
    }
   ],
   "source": [
    "from sklearn.linear_model import LinearRegression\n",
    "reg = LinearRegression().fit(train[:,:-1], train_target)\n",
    "pre = (reg.predict(valid[:,:-1]) > 0.5).astype(int)\n",
    "print(accuracy_score(pre, valid_target))"
   ]
  },
  {
   "cell_type": "code",
   "execution_count": 6,
   "metadata": {},
   "outputs": [
    {
     "data": {
      "text/plain": [
       "array([0.28230106, 0.25210111, 0.29475678, 0.26284982])"
      ]
     },
     "execution_count": 6,
     "metadata": {},
     "output_type": "execute_result"
    }
   ],
   "source": [
    "reg.coef_"
   ]
  },
  {
   "cell_type": "code",
   "execution_count": 5,
   "metadata": {},
   "outputs": [],
   "source": [
    "import pickle\n",
    "with open('linear_reg', 'wb') as myfile:\n",
    "    pickle.dump(reg, myfile)"
   ]
  }
 ],
 "metadata": {
  "kernelspec": {
   "display_name": "Python 3",
   "language": "python",
   "name": "python3"
  },
  "language_info": {
   "codemirror_mode": {
    "name": "ipython",
    "version": 3
   },
   "file_extension": ".py",
   "mimetype": "text/x-python",
   "name": "python",
   "nbconvert_exporter": "python",
   "pygments_lexer": "ipython3",
   "version": "3.6.5"
  }
 },
 "nbformat": 4,
 "nbformat_minor": 2
}
